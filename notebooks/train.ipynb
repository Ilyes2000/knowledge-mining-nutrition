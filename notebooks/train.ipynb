{
 "cells": [
  {
   "cell_type": "markdown",
   "id": "1afefe51",
   "metadata": {},
   "source": [
    "# Data Augmentation avec Pipeline et GAN PyTorch Custom"
   ]
  },
  {
   "cell_type": "code",
   "execution_count": 1,
   "id": "ec80b3d8",
   "metadata": {},
   "outputs": [],
   "source": [
    "import sys, os  \n",
    "root = os.path.abspath(os.path.join('..'))  \n",
    "if root not in sys.path:  \n",
    "    sys.path.insert(0, root)"
   ]
  },
  {
   "cell_type": "code",
   "execution_count": 2,
   "id": "50d2d768",
   "metadata": {},
   "outputs": [
    {
     "name": "stdout",
     "output_type": "stream",
     "text": [
      "Requirement already satisfied: pandas in c:\\users\\ilyes\\anaconda3\\envs\\env_ter\\lib\\site-packages (from -r ../requirements.txt (line 1)) (2.2.3)\n",
      "Requirement already satisfied: numpy in c:\\users\\ilyes\\anaconda3\\envs\\env_ter\\lib\\site-packages (from -r ../requirements.txt (line 2)) (1.26.4)\n",
      "Requirement already satisfied: scikit-learn in c:\\users\\ilyes\\anaconda3\\envs\\env_ter\\lib\\site-packages (from -r ../requirements.txt (line 3)) (1.6.1)\n",
      "Requirement already satisfied: torch in c:\\users\\ilyes\\anaconda3\\envs\\env_ter\\lib\\site-packages (from -r ../requirements.txt (line 4)) (2.5.1)\n",
      "Requirement already satisfied: sdv in c:\\users\\ilyes\\anaconda3\\envs\\env_ter\\lib\\site-packages (from -r ../requirements.txt (line 5)) (1.20.0)\n",
      "Requirement already satisfied: rdflib in c:\\users\\ilyes\\anaconda3\\envs\\env_ter\\lib\\site-packages (from -r ../requirements.txt (line 6)) (7.1.4)\n",
      "Requirement already satisfied: gensim in c:\\users\\ilyes\\anaconda3\\envs\\env_ter\\lib\\site-packages (from -r ../requirements.txt (line 7)) (4.3.3)\n",
      "Requirement already satisfied: pyshacl in c:\\users\\ilyes\\anaconda3\\envs\\env_ter\\lib\\site-packages (from -r ../requirements.txt (line 8)) (0.30.1)\n",
      "Requirement already satisfied: python-dateutil>=2.8.2 in c:\\users\\ilyes\\anaconda3\\envs\\env_ter\\lib\\site-packages (from pandas->-r ../requirements.txt (line 1)) (2.9.0.post0)\n",
      "Requirement already satisfied: pytz>=2020.1 in c:\\users\\ilyes\\anaconda3\\envs\\env_ter\\lib\\site-packages (from pandas->-r ../requirements.txt (line 1)) (2024.1)\n",
      "Requirement already satisfied: tzdata>=2022.7 in c:\\users\\ilyes\\anaconda3\\envs\\env_ter\\lib\\site-packages (from pandas->-r ../requirements.txt (line 1)) (2025.1)\n",
      "Requirement already satisfied: scipy>=1.6.0 in c:\\users\\ilyes\\anaconda3\\envs\\env_ter\\lib\\site-packages (from scikit-learn->-r ../requirements.txt (line 3)) (1.13.1)\n",
      "Requirement already satisfied: joblib>=1.2.0 in c:\\users\\ilyes\\anaconda3\\envs\\env_ter\\lib\\site-packages (from scikit-learn->-r ../requirements.txt (line 3)) (1.4.2)\n",
      "Requirement already satisfied: threadpoolctl>=3.1.0 in c:\\users\\ilyes\\anaconda3\\envs\\env_ter\\lib\\site-packages (from scikit-learn->-r ../requirements.txt (line 3)) (3.5.0)\n",
      "Requirement already satisfied: filelock in c:\\users\\ilyes\\anaconda3\\envs\\env_ter\\lib\\site-packages (from torch->-r ../requirements.txt (line 4)) (3.17.0)\n",
      "Requirement already satisfied: typing-extensions>=4.8.0 in c:\\users\\ilyes\\anaconda3\\envs\\env_ter\\lib\\site-packages (from torch->-r ../requirements.txt (line 4)) (4.12.2)\n",
      "Requirement already satisfied: networkx in c:\\users\\ilyes\\anaconda3\\envs\\env_ter\\lib\\site-packages (from torch->-r ../requirements.txt (line 4)) (3.4.2)\n",
      "Requirement already satisfied: jinja2 in c:\\users\\ilyes\\anaconda3\\envs\\env_ter\\lib\\site-packages (from torch->-r ../requirements.txt (line 4)) (3.1.6)\n",
      "Requirement already satisfied: fsspec in c:\\users\\ilyes\\anaconda3\\envs\\env_ter\\lib\\site-packages (from torch->-r ../requirements.txt (line 4)) (2025.3.0)\n",
      "Requirement already satisfied: sympy!=1.13.2,>=1.13.1 in c:\\users\\ilyes\\anaconda3\\envs\\env_ter\\lib\\site-packages (from torch->-r ../requirements.txt (line 4)) (1.13.3)\n",
      "Requirement already satisfied: boto3<2.0.0,>=1.28 in c:\\users\\ilyes\\anaconda3\\envs\\env_ter\\lib\\site-packages (from sdv->-r ../requirements.txt (line 5)) (1.38.0)\n",
      "Requirement already satisfied: botocore<2.0.0,>=1.31 in c:\\users\\ilyes\\anaconda3\\envs\\env_ter\\lib\\site-packages (from sdv->-r ../requirements.txt (line 5)) (1.38.0)\n",
      "Requirement already satisfied: cloudpickle>=2.1.0 in c:\\users\\ilyes\\anaconda3\\envs\\env_ter\\lib\\site-packages (from sdv->-r ../requirements.txt (line 5)) (3.1.1)\n",
      "Requirement already satisfied: graphviz>=0.13.2 in c:\\users\\ilyes\\anaconda3\\envs\\env_ter\\lib\\site-packages (from sdv->-r ../requirements.txt (line 5)) (0.20.3)\n",
      "Requirement already satisfied: tqdm>=4.29 in c:\\users\\ilyes\\anaconda3\\envs\\env_ter\\lib\\site-packages (from sdv->-r ../requirements.txt (line 5)) (4.67.1)\n",
      "Requirement already satisfied: copulas>=0.12.1 in c:\\users\\ilyes\\anaconda3\\envs\\env_ter\\lib\\site-packages (from sdv->-r ../requirements.txt (line 5)) (0.12.2)\n",
      "Requirement already satisfied: ctgan>=0.11.0 in c:\\users\\ilyes\\anaconda3\\envs\\env_ter\\lib\\site-packages (from sdv->-r ../requirements.txt (line 5)) (0.11.0)\n",
      "Requirement already satisfied: deepecho>=0.7.0 in c:\\users\\ilyes\\anaconda3\\envs\\env_ter\\lib\\site-packages (from sdv->-r ../requirements.txt (line 5)) (0.7.0)\n",
      "Requirement already satisfied: rdt>=1.16.0 in c:\\users\\ilyes\\anaconda3\\envs\\env_ter\\lib\\site-packages (from sdv->-r ../requirements.txt (line 5)) (1.16.0)\n",
      "Requirement already satisfied: sdmetrics>=0.20.1 in c:\\users\\ilyes\\anaconda3\\envs\\env_ter\\lib\\site-packages (from sdv->-r ../requirements.txt (line 5)) (0.20.1)\n",
      "Requirement already satisfied: platformdirs>=4.0 in c:\\users\\ilyes\\anaconda3\\envs\\env_ter\\lib\\site-packages (from sdv->-r ../requirements.txt (line 5)) (4.3.6)\n",
      "Requirement already satisfied: pyyaml>=6.0.1 in c:\\users\\ilyes\\anaconda3\\envs\\env_ter\\lib\\site-packages (from sdv->-r ../requirements.txt (line 5)) (6.0.2)\n",
      "Requirement already satisfied: isodate<1.0.0,>=0.7.2 in c:\\users\\ilyes\\anaconda3\\envs\\env_ter\\lib\\site-packages (from rdflib->-r ../requirements.txt (line 6)) (0.7.2)\n",
      "Requirement already satisfied: pyparsing<4,>=2.1.0 in c:\\users\\ilyes\\anaconda3\\envs\\env_ter\\lib\\site-packages (from rdflib->-r ../requirements.txt (line 6)) (3.2.3)\n",
      "Requirement already satisfied: smart-open>=1.8.1 in c:\\users\\ilyes\\anaconda3\\envs\\env_ter\\lib\\site-packages (from gensim->-r ../requirements.txt (line 7)) (7.1.0)\n",
      "Requirement already satisfied: importlib-metadata>6 in c:\\users\\ilyes\\anaconda3\\envs\\env_ter\\lib\\site-packages (from pyshacl->-r ../requirements.txt (line 8)) (8.6.1)\n",
      "Requirement already satisfied: owlrl<8,>=7.1.2 in c:\\users\\ilyes\\anaconda3\\envs\\env_ter\\lib\\site-packages (from pyshacl->-r ../requirements.txt (line 8)) (7.1.3)\n",
      "Requirement already satisfied: packaging>=21.3 in c:\\users\\ilyes\\anaconda3\\envs\\env_ter\\lib\\site-packages (from pyshacl->-r ../requirements.txt (line 8)) (24.2)\n",
      "Requirement already satisfied: prettytable>=3.5.0 in c:\\users\\ilyes\\anaconda3\\envs\\env_ter\\lib\\site-packages (from pyshacl->-r ../requirements.txt (line 8)) (3.16.0)\n",
      "Requirement already satisfied: jmespath<2.0.0,>=0.7.1 in c:\\users\\ilyes\\anaconda3\\envs\\env_ter\\lib\\site-packages (from boto3<2.0.0,>=1.28->sdv->-r ../requirements.txt (line 5)) (1.0.1)\n",
      "Requirement already satisfied: s3transfer<0.13.0,>=0.12.0 in c:\\users\\ilyes\\anaconda3\\envs\\env_ter\\lib\\site-packages (from boto3<2.0.0,>=1.28->sdv->-r ../requirements.txt (line 5)) (0.12.0)\n",
      "Requirement already satisfied: urllib3!=2.2.0,<3,>=1.25.4 in c:\\users\\ilyes\\anaconda3\\envs\\env_ter\\lib\\site-packages (from botocore<2.0.0,>=1.31->sdv->-r ../requirements.txt (line 5)) (2.3.0)\n",
      "Requirement already satisfied: plotly>=5.10.0 in c:\\users\\ilyes\\anaconda3\\envs\\env_ter\\lib\\site-packages (from copulas>=0.12.1->sdv->-r ../requirements.txt (line 5)) (6.0.1)\n",
      "Requirement already satisfied: zipp>=3.20 in c:\\users\\ilyes\\anaconda3\\envs\\env_ter\\lib\\site-packages (from importlib-metadata>6->pyshacl->-r ../requirements.txt (line 8)) (3.21.0)\n",
      "Requirement already satisfied: wcwidth in c:\\users\\ilyes\\anaconda3\\envs\\env_ter\\lib\\site-packages (from prettytable>=3.5.0->pyshacl->-r ../requirements.txt (line 8)) (0.2.13)\n",
      "Requirement already satisfied: six>=1.5 in c:\\users\\ilyes\\anaconda3\\envs\\env_ter\\lib\\site-packages (from python-dateutil>=2.8.2->pandas->-r ../requirements.txt (line 1)) (1.17.0)\n",
      "Requirement already satisfied: html5rdf<2,>=1.2 in c:\\users\\ilyes\\anaconda3\\envs\\env_ter\\lib\\site-packages (from rdflib[html]!=7.1.2,<8.0,>=7.1.1->pyshacl->-r ../requirements.txt (line 8)) (1.2.1)\n",
      "Requirement already satisfied: Faker>=17 in c:\\users\\ilyes\\anaconda3\\envs\\env_ter\\lib\\site-packages (from rdt>=1.16.0->sdv->-r ../requirements.txt (line 5)) (37.1.0)\n",
      "Requirement already satisfied: wrapt in c:\\users\\ilyes\\anaconda3\\envs\\env_ter\\lib\\site-packages (from smart-open>=1.8.1->gensim->-r ../requirements.txt (line 7)) (1.17.2)\n",
      "Requirement already satisfied: mpmath<1.4,>=1.1.0 in c:\\users\\ilyes\\anaconda3\\envs\\env_ter\\lib\\site-packages (from sympy!=1.13.2,>=1.13.1->torch->-r ../requirements.txt (line 4)) (1.3.0)\n",
      "Requirement already satisfied: colorama in c:\\users\\ilyes\\anaconda3\\envs\\env_ter\\lib\\site-packages (from tqdm>=4.29->sdv->-r ../requirements.txt (line 5)) (0.4.6)\n",
      "Requirement already satisfied: MarkupSafe>=2.0 in c:\\users\\ilyes\\anaconda3\\envs\\env_ter\\lib\\site-packages (from jinja2->torch->-r ../requirements.txt (line 4)) (3.0.2)\n",
      "Requirement already satisfied: narwhals>=1.15.1 in c:\\users\\ilyes\\anaconda3\\envs\\env_ter\\lib\\site-packages (from plotly>=5.10.0->copulas>=0.12.1->sdv->-r ../requirements.txt (line 5)) (1.35.0)\n"
     ]
    }
   ],
   "source": [
    "!pip install -r ../requirements.txt"
   ]
  },
  {
   "cell_type": "markdown",
   "id": "c71eb70f",
   "metadata": {},
   "source": [
    "## 2 Imports et configuration"
   ]
  },
  {
   "cell_type": "code",
   "execution_count": 3,
   "id": "861d4fe5",
   "metadata": {},
   "outputs": [],
   "source": [
    "import numpy as np\n",
    "import pandas as pd\n",
    "import torch\n",
    "from scipy.stats import ks_2samp, chi2_contingency\n",
    "from sklearn.linear_model import LogisticRegression\n",
    "from sklearn.model_selection import cross_val_score\n",
    "\n",
    "from nutrition_recommender.pipeline import Pipeline\n",
    "from nutrition_recommender.tabular_gan import TabularGANAugmentor"
   ]
  },
  {
   "cell_type": "code",
   "execution_count": 4,
   "id": "87cc845c",
   "metadata": {},
   "outputs": [],
   "source": [
    "CSV       = '../resources/Dataset_INCA2/Nomenclature_3.csv'\n",
    "KG_TTL    = '../resources/kg/food_kg.ttl'\n",
    "SHAPES    = '../resources/kg/shapes.ttl'\n",
    "\n",
    "OUTPUT_DIR = '../data_augmented'\n",
    "os.makedirs(OUTPUT_DIR, exist_ok=True)\n",
    "\n",
    "# Colonnes à traiter\n",
    "numeric_cols     = ['codgr','sougr','codal']\n",
    "categorical_cols = ['libgr','libsougr','libal']\n",
    "NUM_AUG = 1000\n"
   ]
  },
  {
   "cell_type": "markdown",
   "id": "85b55032",
   "metadata": {},
   "source": [
    "## 3 Exécuter le Pipeline (prétraitement + GAN + SHACL)\n",
    "\n"
   ]
  },
  {
   "cell_type": "code",
   "execution_count": 6,
   "id": "477791a8",
   "metadata": {},
   "outputs": [
    {
     "name": "stdout",
     "output_type": "stream",
     "text": [
      "Epoch 10/100 | Loss_D: 0.1431 | Loss_G: 2.1013 | Checkpoint saved\n",
      "Epoch 20/100 | Loss_D: 0.0991 | Loss_G: 2.8015 | Checkpoint saved\n",
      "Epoch 30/100 | Loss_D: 0.2013 | Loss_G: 3.3110 | Checkpoint saved\n",
      "Epoch 40/100 | Loss_D: 0.6542 | Loss_G: 1.1783 | Checkpoint saved\n",
      "Epoch 50/100 | Loss_D: 0.4125 | Loss_G: 3.4984 | Checkpoint saved\n",
      "Epoch 60/100 | Loss_D: 0.2521 | Loss_G: 3.6968 | Checkpoint saved\n",
      "Epoch 70/100 | Loss_D: 0.8221 | Loss_G: 1.5243 | Checkpoint saved\n",
      "Epoch 80/100 | Loss_D: 0.5306 | Loss_G: 1.5864 | Checkpoint saved\n",
      "Epoch 90/100 | Loss_D: 0.8160 | Loss_G: 2.1585 | Checkpoint saved\n",
      "Epoch 100/100 | Loss_D: 1.3152 | Loss_G: 1.0040 | Checkpoint saved\n",
      "SHACL validation passed\n"
     ]
    }
   ],
   "source": [
    "# %%\n",
    "pipeline = Pipeline(CSV, KG_TTL, SHAPES)\n",
    "real_df, synth_df = pipeline.run(numeric_cols, categorical_cols, NUM_AUG)\n"
   ]
  },
  {
   "cell_type": "markdown",
   "id": "7fcb354b",
   "metadata": {},
   "source": [
    "### Décodage des données synthétiques (retour en texte d’origine)Décodage des synthétiques"
   ]
  },
  {
   "cell_type": "code",
   "execution_count": 7,
   "id": "caa32bfb",
   "metadata": {},
   "outputs": [],
   "source": [
    "synth_df.columns = ['codgr_enc','libgr_enc','sougr_enc','libsougr_enc','codal_enc','libal_enc']\n"
   ]
  },
  {
   "cell_type": "code",
   "execution_count": 8,
   "id": "768438f8",
   "metadata": {},
   "outputs": [],
   "source": [
    "arr_num = pipeline.prep.scaler.inverse_transform(synth_df[['codgr_enc','sougr_enc','codal_enc']].values)\n",
    "df_num  = pd.DataFrame(np.rint(arr_num).astype(int), columns=numeric_cols)\n"
   ]
  },
  {
   "cell_type": "code",
   "execution_count": 9,
   "id": "9a79b6d6",
   "metadata": {},
   "outputs": [],
   "source": [
    "df_num = pd.DataFrame(np.rint(arr_num).astype(int), columns=numeric_cols)\n"
   ]
  },
  {
   "cell_type": "code",
   "execution_count": 10,
   "id": "53d80f87",
   "metadata": {},
   "outputs": [],
   "source": [
    "# b) Inverse-encoder catégoriel\n",
    "df_cat = pd.DataFrame()\n",
    "for enc_col, col in zip(['libgr_enc','libsougr_enc','libal_enc'], categorical_cols):\n",
    "    le = pipeline.prep.encoders[col]\n",
    "    codes = np.rint(synth_df[enc_col]).astype(int)\n",
    "    codes = np.clip(codes, 0, len(le.classes_)-1)\n",
    "    df_cat[col] = le.inverse_transform(codes)"
   ]
  },
  {
   "cell_type": "markdown",
   "id": "ac5b4724",
   "metadata": {},
   "source": [
    "## 5 Assemblage"
   ]
  },
  {
   "cell_type": "code",
   "execution_count": 11,
   "id": "1d44b127",
   "metadata": {},
   "outputs": [
    {
     "name": "stdout",
     "output_type": "stream",
     "text": [
      "Synthétique décodé : (1000, 6)\n"
     ]
    },
    {
     "data": {
      "text/html": [
       "<div>\n",
       "<style scoped>\n",
       "    .dataframe tbody tr th:only-of-type {\n",
       "        vertical-align: middle;\n",
       "    }\n",
       "\n",
       "    .dataframe tbody tr th {\n",
       "        vertical-align: top;\n",
       "    }\n",
       "\n",
       "    .dataframe thead th {\n",
       "        text-align: right;\n",
       "    }\n",
       "</style>\n",
       "<table border=\"1\" class=\"dataframe\">\n",
       "  <thead>\n",
       "    <tr style=\"text-align: right;\">\n",
       "      <th></th>\n",
       "      <th>codgr</th>\n",
       "      <th>libgr</th>\n",
       "      <th>sougr</th>\n",
       "      <th>libsougr</th>\n",
       "      <th>codal</th>\n",
       "      <th>libal</th>\n",
       "    </tr>\n",
       "  </thead>\n",
       "  <tbody>\n",
       "    <tr>\n",
       "      <th>0</th>\n",
       "      <td>-14</td>\n",
       "      <td>eaux</td>\n",
       "      <td>43</td>\n",
       "      <td>haricots verts et petits pois (légumes potagers)</td>\n",
       "      <td>105408</td>\n",
       "      <td>lardon nature cuit</td>\n",
       "    </tr>\n",
       "    <tr>\n",
       "      <th>1</th>\n",
       "      <td>-18</td>\n",
       "      <td>glaces et desserts glacés</td>\n",
       "      <td>16</td>\n",
       "      <td>jambons et charcuteries en pièces</td>\n",
       "      <td>132064</td>\n",
       "      <td>limonade ou clear lime sucrée type seven'up ou...</td>\n",
       "    </tr>\n",
       "    <tr>\n",
       "      <th>2</th>\n",
       "      <td>-6</td>\n",
       "      <td>volaille et gibier</td>\n",
       "      <td>-226</td>\n",
       "      <td>lait en bouteille ou en brique</td>\n",
       "      <td>232048</td>\n",
       "      <td>lait fermenté au bifidus nature au lait entier...</td>\n",
       "    </tr>\n",
       "    <tr>\n",
       "      <th>3</th>\n",
       "      <td>-12</td>\n",
       "      <td>oeufs et dérivés</td>\n",
       "      <td>-50</td>\n",
       "      <td>lait aromatisé</td>\n",
       "      <td>137218</td>\n",
       "      <td>margarine au tournesol en barquette 80% m.g. t...</td>\n",
       "    </tr>\n",
       "    <tr>\n",
       "      <th>4</th>\n",
       "      <td>-7</td>\n",
       "      <td>glaces et desserts glacés</td>\n",
       "      <td>4</td>\n",
       "      <td>haricots verts et petits pois (légumes potagers)</td>\n",
       "      <td>140874</td>\n",
       "      <td>lait demi-écrémé pasteurisé</td>\n",
       "    </tr>\n",
       "  </tbody>\n",
       "</table>\n",
       "</div>"
      ],
      "text/plain": [
       "   codgr                      libgr  sougr  \\\n",
       "0    -14                       eaux     43   \n",
       "1    -18  glaces et desserts glacés     16   \n",
       "2     -6         volaille et gibier   -226   \n",
       "3    -12           oeufs et dérivés    -50   \n",
       "4     -7  glaces et desserts glacés      4   \n",
       "\n",
       "                                           libsougr   codal  \\\n",
       "0  haricots verts et petits pois (légumes potagers)  105408   \n",
       "1                 jambons et charcuteries en pièces  132064   \n",
       "2                    lait en bouteille ou en brique  232048   \n",
       "3                                    lait aromatisé  137218   \n",
       "4  haricots verts et petits pois (légumes potagers)  140874   \n",
       "\n",
       "                                               libal  \n",
       "0                                 lardon nature cuit  \n",
       "1  limonade ou clear lime sucrée type seven'up ou...  \n",
       "2  lait fermenté au bifidus nature au lait entier...  \n",
       "3  margarine au tournesol en barquette 80% m.g. t...  \n",
       "4                        lait demi-écrémé pasteurisé  "
      ]
     },
     "execution_count": 11,
     "metadata": {},
     "output_type": "execute_result"
    }
   ],
   "source": [
    "\n",
    "df_synth_decoded = pd.concat([df_num, df_cat], axis=1)[\n",
    "    ['codgr','libgr','sougr','libsougr','codal','libal']\n",
    "]\n",
    "print(\"Synthétique décodé :\", df_synth_decoded.shape)\n",
    "df_synth_decoded.head()\n"
   ]
  },
  {
   "cell_type": "markdown",
   "id": "f3362b2a",
   "metadata": {},
   "source": [
    "## 4 Aperçu des résultats\n"
   ]
  },
  {
   "cell_type": "code",
   "execution_count": 12,
   "id": "b4b6b0a6",
   "metadata": {},
   "outputs": [
    {
     "name": "stdout",
     "output_type": "stream",
     "text": [
      "→ Données prétraitées (réel) : (1343, 6)\n",
      "      codgr  libgr     sougr  libsougr     codal  libal\n",
      "0 -1.863677     29 -0.455396        78 -0.902609    869\n",
      "1 -1.863677     29 -0.455396        78 -0.902483    880\n",
      "2 -1.863677     29 -0.455396        78 -0.902147    873\n",
      "3 -1.863677     29 -0.455396        78 -0.898448    875\n",
      "4 -1.863677     29 -0.455396        78 -0.898027    872\n",
      "\n",
      "→ Données augmentées (synthétique) : (1000, 6)\n",
      "   codgr_enc  libgr_enc  sougr_enc  libsougr_enc  codal_enc   libal_enc\n",
      "0  -3.100465  17.478338   0.753921     59.738865   3.233730  705.994873\n",
      "1  -3.492562  22.276657  -0.037905     61.900635   4.354136  717.485352\n",
      "2  -2.423512  45.784931  -6.976610     65.585815   8.556771  688.325989\n",
      "3  -2.994895  28.376635  -1.914335     63.862293   4.570794  750.691467\n",
      "4  -2.519884  22.359928  -0.358653     59.580616   4.724477  678.744385\n"
     ]
    }
   ],
   "source": [
    "print(\"→ Données prétraitées (réel) :\", real_df.shape)\n",
    "print(real_df.head(), end='\\n\\n')\n",
    "\n",
    "print(\"→ Données augmentées (synthétique) :\", synth_df.shape)\n",
    "print(synth_df.head())\n"
   ]
  },
  {
   "cell_type": "markdown",
   "id": "ff39491c",
   "metadata": {},
   "source": [
    "## 5 Sauvegarde des jeux de données\n"
   ]
  },
  {
   "cell_type": "code",
   "execution_count": null,
   "id": "1d368154",
   "metadata": {},
   "outputs": [
    {
     "name": "stdout",
     "output_type": "stream",
     "text": [
      "Données réelles sauvegardées : ../data_augmented\\INCA2_real_preprocessed.csv\n",
      "Données synthétiques sauvegardées : ../data_augmented\\INCA2_synthetic_1000.csv\n"
     ]
    }
   ],
   "source": [
    "real_path  = os.path.join(OUTPUT_DIR, 'INCA2_real_preprocessed.csv')\n",
    "synth_path = os.path.join(OUTPUT_DIR, f'INCA2_synthetic_{NUM_AUG}.csv')\n",
    "\n",
    "real_df .to_csv(real_path,  index=False, sep=';')\n",
    "synth_df.to_csv(synth_path, index=False, sep=';')\n",
    "\n",
    "print(f\"Données réelles sauvegardées : {real_path}\")\n",
    "print(f\"Données synthétiques sauvegardées : {synth_path}\")\n"
   ]
  },
  {
   "cell_type": "code",
   "execution_count": 14,
   "id": "de2e4a8a",
   "metadata": {},
   "outputs": [
    {
     "name": "stdout",
     "output_type": "stream",
     "text": [
      "Décodé enregistré : ../data_augmented\\INCA2_synthetic_decoded2.csv\n"
     ]
    }
   ],
   "source": [
    "decoded_path = os.path.join(OUTPUT_DIR, 'INCA2_synthetic_decoded2.csv')\n",
    "df_synth_decoded.to_csv(decoded_path, index=False, sep=';')\n",
    "print(\"Décodé enregistré :\", decoded_path)"
   ]
  },
  {
   "cell_type": "markdown",
   "id": "2aa2ca83",
   "metadata": {},
   "source": [
    "## 6 Évaluation statistique du GAN"
   ]
  },
  {
   "cell_type": "markdown",
   "id": "2212f9cc",
   "metadata": {},
   "source": [
    "### 6.1 KS-test pour chaque colonne numérique"
   ]
  },
  {
   "cell_type": "code",
   "execution_count": 15,
   "id": "08a900f8",
   "metadata": {},
   "outputs": [
    {
     "name": "stdout",
     "output_type": "stream",
     "text": [
      "=== KS-Test (numériques) ===\n",
      "codgr: KS=0.890, p-val=0.000\n",
      "sougr: KS=0.532, p-val=0.000\n",
      "codal: KS=0.966, p-val=0.000\n"
     ]
    }
   ],
   "source": [
    "print(\"=== KS-Test (numériques) ===\")\n",
    "for c in numeric_cols:\n",
    "    stat, p = ks_2samp(real_df[c], df_synth_decoded[c])\n",
    "    print(f\"{c}: KS={stat:.3f}, p-val={p:.3f}\")\n"
   ]
  },
  {
   "cell_type": "markdown",
   "id": "f2bf9f00",
   "metadata": {},
   "source": [
    "### 6.2 χ²-test pour chaque colonne catégorielle"
   ]
  },
  {
   "cell_type": "code",
   "execution_count": 16,
   "id": "c810066f",
   "metadata": {},
   "outputs": [
    {
     "name": "stdout",
     "output_type": "stream",
     "text": [
      "\n",
      "=== χ²-Test (catégorielles) ===\n",
      "libgr: χ²=2343.0, p-val=0.000\n",
      "libsougr: χ²=2343.0, p-val=0.000\n",
      "libal: χ²=2343.0, p-val=0.000\n"
     ]
    }
   ],
   "source": [
    "\n",
    "print(\"\\n=== χ²-Test (catégorielles) ===\")\n",
    "for c in categorical_cols:\n",
    "    real_counts  = real_df[c].value_counts()\n",
    "    synth_counts = df_synth_decoded[c].value_counts()\n",
    "    table = pd.concat([real_counts, synth_counts], axis=1).fillna(0).astype(int)\n",
    "    chi2, p, _, _ = chi2_contingency(table)\n",
    "    print(f\"{c}: χ²={chi2:.1f}, p-val={p:.3f}\")"
   ]
  },
  {
   "cell_type": "markdown",
   "id": "efd9bdf6",
   "metadata": {},
   "source": [
    "### 6.3 Différence de corrélation"
   ]
  },
  {
   "cell_type": "code",
   "execution_count": 17,
   "id": "af4e76aa",
   "metadata": {},
   "outputs": [
    {
     "name": "stdout",
     "output_type": "stream",
     "text": [
      "\n",
      "||Corr_real – Corr_synth||_F = 2.136\n"
     ]
    }
   ],
   "source": [
    "\n",
    "corr_real  = real_df[numeric_cols].corr().values\n",
    "corr_synth = df_synth_decoded[numeric_cols].corr().values\n",
    "corr_diff  = np.linalg.norm(corr_real - corr_synth)\n",
    "print(f\"\\n||Corr_real – Corr_synth||_F = {corr_diff:.3f}\")"
   ]
  },
  {
   "cell_type": "markdown",
   "id": "eac80645",
   "metadata": {},
   "source": [
    "## 8 Checkpoints du GAN"
   ]
  },
  {
   "cell_type": "code",
   "execution_count": 19,
   "id": "71799bba",
   "metadata": {},
   "outputs": [
    {
     "name": "stdout",
     "output_type": "stream",
     "text": [
      "Checkpoints disponibles dans : checkpoints\n",
      "['discriminator_epoch10.pth', 'discriminator_epoch100.pth', 'discriminator_epoch20.pth', 'discriminator_epoch30.pth', 'discriminator_epoch40.pth', 'discriminator_epoch50.pth', 'discriminator_epoch60.pth', 'discriminator_epoch70.pth', 'discriminator_epoch80.pth', 'discriminator_epoch90.pth', 'generator_epoch10.pth', 'generator_epoch100.pth', 'generator_epoch20.pth', 'generator_epoch30.pth', 'generator_epoch40.pth', 'generator_epoch50.pth', 'generator_epoch60.pth', 'generator_epoch70.pth', 'generator_epoch80.pth', 'generator_epoch90.pth']\n"
     ]
    }
   ],
   "source": [
    "print(\"Checkpoints disponibles dans :\", pipeline.gan.checkpoint_dir)\n",
    "print(os.listdir(pipeline.gan.checkpoint_dir))"
   ]
  },
  {
   "cell_type": "code",
   "execution_count": null,
   "id": "f16a1a7a",
   "metadata": {},
   "outputs": [],
   "source": []
  }
 ],
 "metadata": {
  "kernelspec": {
   "display_name": "env_ter",
   "language": "python",
   "name": "python3"
  },
  "language_info": {
   "codemirror_mode": {
    "name": "ipython",
    "version": 3
   },
   "file_extension": ".py",
   "mimetype": "text/x-python",
   "name": "python",
   "nbconvert_exporter": "python",
   "pygments_lexer": "ipython3",
   "version": "3.10.16"
  }
 },
 "nbformat": 4,
 "nbformat_minor": 5
}
